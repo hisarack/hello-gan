{
 "cells": [
  {
   "cell_type": "markdown",
   "metadata": {},
   "source": [
    "# Simple Auto Encoder\n",
    "reference from https://blog.keras.io/building-autoencoders-in-keras.html"
   ]
  },
  {
   "cell_type": "code",
   "execution_count": 1,
   "metadata": {},
   "outputs": [
    {
     "name": "stderr",
     "output_type": "stream",
     "text": [
      "Using TensorFlow backend.\n"
     ]
    }
   ],
   "source": [
    "from keras.layers import Input, Dense\n",
    "from keras.models import Model\n",
    "from keras import regularizers\n",
    "\n",
    "encoding_dim = 32\n",
    "input_img = Input(shape=(784,))\n",
    "encoded = Dense(encoding_dim, activation='relu')(input_img)\n",
    "# encoder with L1 activity regularizer\n",
    "# encoded = Dense(encoding_dim, activation='relu',\n",
    "#               activity_regularizer=regularizers.l1(10e-5))(input_img)\n",
    "# TODO: understanding why regularizer is not work well as the reference\n",
    "decoded = Dense(784, activation='sigmoid')(encoded)\n",
    "autoencoder = Model(input_img, decoded)"
   ]
  },
  {
   "cell_type": "code",
   "execution_count": 2,
   "metadata": {
    "collapsed": true
   },
   "outputs": [],
   "source": [
    "encoder = Model(input_img, encoded)\n",
    "encoded_input = Input(shape=(encoding_dim,))\n",
    "decoder_layer = autoencoder.layers[-1]\n",
    "decoder = Model(encoded_input, decoder_layer(encoded_input))"
   ]
  },
  {
   "cell_type": "code",
   "execution_count": null,
   "metadata": {},
   "outputs": [
    {
     "name": "stdout",
     "output_type": "stream",
     "text": [
      "(60000, 784)\n",
      "(10000, 784)\n"
     ]
    }
   ],
   "source": [
    "from keras.datasets import mnist\n",
    "import numpy as np\n",
    "\n",
    "(X_train, _), (X_test, _) = mnist.load_data()\n",
    "X_train = X_train.astype('float32') / 255.\n",
    "X_test = X_test.astype('float32') / 255.\n",
    "X_train = X_train.reshape(X_train.shape[0], np.prod(X_train.shape[1:]))\n",
    "X_test = X_test.reshape(X_test.shape[0], np.prod(X_test.shape[1:]))\n",
    "print X_train.shape\n",
    "print X_test.shape"
   ]
  },
  {
   "cell_type": "code",
   "execution_count": null,
   "metadata": {},
   "outputs": [
    {
     "name": "stdout",
     "output_type": "stream",
     "text": [
      "Train on 60000 samples, validate on 10000 samples\n",
      "Epoch 1/50\n",
      "60000/60000 [==============================] - 3s - loss: 0.3675 - val_loss: 0.2718\n",
      "Epoch 2/50\n",
      "60000/60000 [==============================] - 3s - loss: 0.2635 - val_loss: 0.2522\n",
      "Epoch 3/50\n",
      "60000/60000 [==============================] - 3s - loss: 0.2421 - val_loss: 0.2304\n",
      "Epoch 4/50\n",
      "60000/60000 [==============================] - 3s - loss: 0.2221 - val_loss: 0.2118\n",
      "Epoch 5/50\n",
      "60000/60000 [==============================] - 3s - loss: 0.2062 - val_loss: 0.1984\n",
      "Epoch 6/50\n",
      "60000/60000 [==============================] - 3s - loss: 0.1950 - val_loss: 0.1892\n",
      "Epoch 7/50\n",
      "60000/60000 [==============================] - 3s - loss: 0.1868 - val_loss: 0.1816\n",
      "Epoch 8/50\n",
      "60000/60000 [==============================] - 3s - loss: 0.1798 - val_loss: 0.1751\n",
      "Epoch 9/50\n",
      "60000/60000 [==============================] - 3s - loss: 0.1736 - val_loss: 0.1692\n",
      "Epoch 10/50\n",
      "60000/60000 [==============================] - 3s - loss: 0.1681 - val_loss: 0.1640\n",
      "Epoch 11/50\n",
      "60000/60000 [==============================] - 3s - loss: 0.1631 - val_loss: 0.1593\n",
      "Epoch 12/50\n",
      "60000/60000 [==============================] - 3s - loss: 0.1586 - val_loss: 0.1551\n",
      "Epoch 13/50\n",
      "60000/60000 [==============================] - 3s - loss: 0.1546 - val_loss: 0.1512\n",
      "Epoch 14/50\n",
      "60000/60000 [==============================] - 3s - loss: 0.1509 - val_loss: 0.1477\n",
      "Epoch 15/50\n",
      "60000/60000 [==============================] - 3s - loss: 0.1476 - val_loss: 0.1445\n",
      "Epoch 16/50\n",
      "60000/60000 [==============================] - 4s - loss: 0.1445 - val_loss: 0.1415\n",
      "Epoch 17/50\n",
      "60000/60000 [==============================] - 4s - loss: 0.1416 - val_loss: 0.1388\n",
      "Epoch 18/50\n",
      "60000/60000 [==============================] - 4s - loss: 0.1390 - val_loss: 0.1363\n",
      "Epoch 19/50\n",
      "60000/60000 [==============================] - 4s - loss: 0.1366 - val_loss: 0.1339\n",
      "Epoch 20/50\n",
      "17920/60000 [=======>......................] - ETA: 2s - loss: 0.1348"
     ]
    }
   ],
   "source": [
    "autoencoder.compile(\n",
    "    optimizer='adadelta',\n",
    "    loss='binary_crossentropy'\n",
    ")\n",
    "autoencoder.fit(\n",
    "    X_train,\n",
    "    X_train,\n",
    "    epochs=50,\n",
    "    batch_size=256,\n",
    "    shuffle=True,\n",
    "    validation_data=(X_test, X_test)\n",
    ")\n",
    "encoded_imgs = encoder.predict(X_test)\n",
    "decoded_imgs = decoder.predict(encoded_imgs)"
   ]
  },
  {
   "cell_type": "code",
   "execution_count": null,
   "metadata": {},
   "outputs": [],
   "source": [
    "import matplotlib.pyplot as plt\n",
    "\n",
    "n = 10\n",
    "plt.figure(figsize=(15, 3))\n",
    "for i in xrange(n):\n",
    "    # display original \n",
    "    ax = plt.subplot(2, n, i+1)\n",
    "    plt.imshow(X_test[i].reshape(28, 28))\n",
    "    plt.gray()\n",
    "    ax.get_xaxis().set_visible(False)\n",
    "    ax.get_yaxis().set_visible(False)\n",
    "    # display reconstruction\n",
    "    ax = plt.subplot(2, n, i+1+n)\n",
    "    plt.imshow(decoded_imgs[i].reshape(28, 28))\n",
    "    plt.gray()\n",
    "    ax.get_xaxis().set_visible(False)\n",
    "    ax.get_yaxis().set_visible(False)\n",
    "plt.show()\n",
    "print encoded_imgs.mean()"
   ]
  },
  {
   "cell_type": "markdown",
   "metadata": {},
   "source": [
    "# Deep Auto Encoder"
   ]
  },
  {
   "cell_type": "code",
   "execution_count": null,
   "metadata": {},
   "outputs": [],
   "source": [
    "encoding_dim2 = 32\n",
    "\n",
    "input_img2 = Input(shape=(784,))\n",
    "encoded2 = Dense(128, activation='relu')(input_img2)\n",
    "encoded2 = Dense(64, activation='relu')(encoded2)\n",
    "encoded2 = Dense(32, activation='relu')(encoded2)\n",
    "decoded2 = Dense(64, activation='relu')(encoded2)\n",
    "decoded2 = Dense(128, activation='relu')(decoded2)\n",
    "decoded2 = Dense(784, activation='sigmoid')(decoded2)\n",
    "autoencoder2 = Model(input_img2, decoded2)\n",
    "\n",
    "encoder2 = Model(input_img2, encoded2)\n",
    "encoded_input2 = Input(shape=(encoding_dim2,))\n",
    "decoder_layer2_784 = autoencoder2.layers[-1]\n",
    "decoder_layer2_128 = autoencoder2.layers[-2]\n",
    "decoder_layer2_64 = autoencoder2.layers[-3]\n",
    "decoder2 = Model(encoded_input2, decoder_layer2_784(decoder_layer2_128(decoder_layer2_64(encoded_input2))))"
   ]
  },
  {
   "cell_type": "code",
   "execution_count": null,
   "metadata": {},
   "outputs": [],
   "source": [
    "autoencoder2.compile(\n",
    "    optimizer='adadelta',\n",
    "    loss='binary_crossentropy'\n",
    ")\n",
    "autoencoder2.fit(\n",
    "    X_train,\n",
    "    X_train,\n",
    "    epochs=100,\n",
    "    batch_size=256,\n",
    "    shuffle=True,\n",
    "    validation_data=(X_test, X_test)\n",
    ")\n",
    "encoded_imgs2 = encoder2.predict(X_test)\n",
    "decoded_imgs2 = decoder2.predict(encoded_imgs2)"
   ]
  },
  {
   "cell_type": "code",
   "execution_count": null,
   "metadata": {},
   "outputs": [],
   "source": [
    "import matplotlib.pyplot as plt\n",
    "\n",
    "n = 10\n",
    "plt.figure(figsize=(15, 3))\n",
    "for i in xrange(n):\n",
    "    # display original \n",
    "    ax = plt.subplot(2, n, i+1)\n",
    "    plt.imshow(X_test[i].reshape(28, 28))\n",
    "    plt.gray()\n",
    "    ax.get_xaxis().set_visible(False)\n",
    "    ax.get_yaxis().set_visible(False)\n",
    "    # display reconstruction\n",
    "    ax = plt.subplot(2, n, i+1+n)\n",
    "    plt.imshow(decoded_imgs2[i].reshape(28, 28))\n",
    "    plt.gray()\n",
    "    ax.get_xaxis().set_visible(False)\n",
    "    ax.get_yaxis().set_visible(False)\n",
    "plt.show()\n",
    "print encoded_imgs2.mean()"
   ]
  },
  {
   "cell_type": "markdown",
   "metadata": {},
   "source": [
    "# Variational Auto Encoder\n",
    "http://kvfrans.com/variational-autoencoders-explained/\n",
    "https://www.countbayesie.com/blog/2017/5/9/kullback-leibler-divergence-explained"
   ]
  },
  {
   "cell_type": "code",
   "execution_count": null,
   "metadata": {},
   "outputs": [],
   "source": [
    "from keras.layers import Input, Dense, Lambda, Layer\n",
    "from keras.models import Model\n",
    "from keras import metrics\n",
    "from keras import backend as K\n",
    "\n",
    "batch_size = 256\n",
    "original_dim = 784\n",
    "intermediate_dim = 256\n",
    "latent_dim = 2\n",
    "\n",
    "# create model\n",
    "x = Input(shape=(original_dim,))\n",
    "h = Dense(intermediate_dim, activation='relu')(x)\n",
    "z_mean = Dense(latent_dim)(h)\n",
    "z_log_sigma = Dense(latent_dim)(h)\n",
    "def sampling(args):\n",
    "    z_mean, z_log_sigma = args\n",
    "    epsilon = K.random_normal(\n",
    "        shape=(K.shape(z_mean)[0], latent_dim),\n",
    "        mean=0.,\n",
    "        stddev=1.\n",
    "    )\n",
    "    return z_mean + K.exp(z_log_sigma / 2) * epsilon\n",
    "z = Lambda(sampling, output_shape=(latent_dim,))([z_mean, z_log_sigma])\n",
    "\n",
    "decoder_h = Dense(intermediate_dim, activation='relu')\n",
    "decoder_mean = Dense(original_dim, activation='sigmoid')\n",
    "h_decoded = decoder_h(z)\n",
    "x_decoded_mean = decoder_mean(h_decoded)\n",
    "\n",
    "# compile model\n",
    "class KLDivergenceLayer(Layer):\n",
    "    def __init__(self, **kwargs):\n",
    "        self.is_placeholder = True\n",
    "        super(KLDivergenceLayer, self).__init__(**kwargs)\n",
    "    \n",
    "    def vae_loss(self, x, x_decoded_mean):\n",
    "        xent_loss = original_dim * metrics.binary_crossentropy(x, x_decoded_mean)\n",
    "        kl_loss = -0.5 * K.sum(1 + z_log_sigma - K.square(z_mean) - K.exp(z_log_sigma), axis=-1)\n",
    "        return K.mean(xent_loss + kl_loss)\n",
    "        \n",
    "    def call(self, inputs):\n",
    "        x = inputs[0]\n",
    "        x_decoded_mean = inputs[1]\n",
    "        loss = self.vae_loss(x, x_decoded_mean)\n",
    "        self.add_loss(loss, inputs=inputs)\n",
    "        return x\n",
    "loss_estimator = KLDivergenceLayer()([x, x_decoded_mean])\n",
    "vae = Model(x, loss_estimator)\n",
    "vae.compile(optimizer='rmsprop', loss=None)"
   ]
  },
  {
   "cell_type": "code",
   "execution_count": null,
   "metadata": {},
   "outputs": [],
   "source": [
    "# training model\n",
    "(X_train, _), (X_test, y_test) = mnist.load_data()\n",
    "X_train = X_train.astype('float32') / 255.\n",
    "X_test = X_test.astype('float32') / 255.\n",
    "X_train = X_train.reshape(len(X_train), np.prod(X_train.shape[1:]))\n",
    "X_test = X_test.reshape(len(X_test), np.prod(X_test.shape[1:]))\n",
    "vae.fit(\n",
    "    X_train,\n",
    "    shuffle=True,\n",
    "    epochs=100,\n",
    "    batch_size=batch_size,\n",
    "    validation_data=(X_test, None)\n",
    ")\n",
    "\n",
    "# display latent space\n",
    "encoder = Model(x, z_mean)\n",
    "X_test_encoded = encoder.predict(X_test, batch_size=batch_size)\n",
    "plt.figure(figsize=(6, 6))\n",
    "plt.scatter(\n",
    "    X_test_encoded[:, 0],\n",
    "    X_test_encoded[:, 1],\n",
    "    c=y_test\n",
    ")\n",
    "plt.colorbar()\n",
    "plt.show()"
   ]
  },
  {
   "cell_type": "code",
   "execution_count": null,
   "metadata": {},
   "outputs": [],
   "source": [
    "from scipy.stats import norm\n",
    "\n",
    "# build generator from the trained model\n",
    "decoder_input = Input(shape=(latent_dim,))\n",
    "_h_decoded = decoder_h(decoder_input)\n",
    "_x_decoded_mean = decoder_mean(_h_decoded)\n",
    "generator = Model(decoder_input, _x_decoded_mean)\n",
    "\n",
    "# display digits\n",
    "n = 15\n",
    "digit_size = 28\n",
    "figure = np.zeros([digit_size*n, digit_size*n])\n",
    "grid_x = norm.ppf(np.linspace(0.05, 0.95, n))\n",
    "grid_y = norm.ppf(np.linspace(0.05, 0.95, n))\n",
    "\n",
    "for i, yi in enumerate(grid_x):\n",
    "    for j, xi in enumerate(grid_y):\n",
    "        z_sample = np.array([[xi, yi]])\n",
    "        x_decoded = generator.predict(z_sample)\n",
    "        digit = x_decoded[0].reshape(digit_size, digit_size)\n",
    "        figure[i*digit_size: (i+1)*digit_size, \n",
    "               j*digit_size: (j+1)*digit_size] = digit\n",
    "plt.figure(figsize=(10, 10))\n",
    "plt.imshow(figure, cmap='Greys_r')\n",
    "plt.show()"
   ]
  }
 ],
 "metadata": {
  "kernelspec": {
   "display_name": "Python 2",
   "language": "python",
   "name": "python2"
  },
  "language_info": {
   "codemirror_mode": {
    "name": "ipython",
    "version": 2
   },
   "file_extension": ".py",
   "mimetype": "text/x-python",
   "name": "python",
   "nbconvert_exporter": "python",
   "pygments_lexer": "ipython2",
   "version": "2.7.13"
  }
 },
 "nbformat": 4,
 "nbformat_minor": 2
}
